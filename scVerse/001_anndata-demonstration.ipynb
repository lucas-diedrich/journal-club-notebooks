{
 "cells": [
  {
   "cell_type": "markdown",
   "metadata": {},
   "source": [
    "# Anndata demonstration"
   ]
  },
  {
   "cell_type": "code",
   "execution_count": 1,
   "metadata": {},
   "outputs": [],
   "source": [
    "## Run the following commands to create a suitable environment\n",
    "# ! conda create -n scanpy python=3.11\n",
    "# ! conda activate scanpy\n",
    "# ! pip install scanpy leidenalg jupyter decoupler seaborn"
   ]
  },
  {
   "cell_type": "code",
   "execution_count": 2,
   "metadata": {},
   "outputs": [],
   "source": [
    "import os \n",
    "\n",
    "if not os.path.exists(\"./data\"):\n",
    "    os.mkdir(\"./data\")"
   ]
  },
  {
   "cell_type": "code",
   "execution_count": 3,
   "metadata": {},
   "outputs": [],
   "source": [
    "import numpy as np \n",
    "import pandas as pd \n",
    "from scipy import sparse\n",
    "import matplotlib.pyplot as plt \n",
    "import seaborn as sns \n",
    "\n",
    "import anndata as ad \n",
    "import scanpy as sc "
   ]
  },
  {
   "cell_type": "code",
   "execution_count": 4,
   "metadata": {},
   "outputs": [
    {
     "data": {
      "text/plain": [
       "AnnData object with n_obs × n_vars = 2638 × 1838\n",
       "    obs: 'n_genes', 'percent_mito', 'n_counts', 'louvain'\n",
       "    var: 'n_cells'\n",
       "    uns: 'draw_graph', 'louvain', 'louvain_colors', 'neighbors', 'pca', 'rank_genes_groups'\n",
       "    obsm: 'X_pca', 'X_tsne', 'X_umap', 'X_draw_graph_fr'\n",
       "    varm: 'PCs'\n",
       "    obsp: 'distances', 'connectivities'"
      ]
     },
     "execution_count": 4,
     "metadata": {},
     "output_type": "execute_result"
    }
   ],
   "source": [
    "## Run this cell to get example data \n",
    "sc.settings.datasetdir = \"./data/\"\n",
    "sc.datasets.pbmc3k_processed()"
   ]
  },
  {
   "cell_type": "markdown",
   "metadata": {},
   "source": [
    "##  Read anndata "
   ]
  },
  {
   "cell_type": "code",
   "execution_count": 5,
   "metadata": {},
   "outputs": [
    {
     "name": "stderr",
     "output_type": "stream",
     "text": [
      "/Users/lucas-diedrich/anaconda3/envs/spatialdata/lib/python3.11/site-packages/anndata/compat/__init__.py:329: FutureWarning: Moving element from .uns['neighbors']['distances'] to .obsp['distances'].\n",
      "\n",
      "This is where adjacency matrices should go now.\n",
      "  warn(\n",
      "/Users/lucas-diedrich/anaconda3/envs/spatialdata/lib/python3.11/site-packages/anndata/compat/__init__.py:329: FutureWarning: Moving element from .uns['neighbors']['connectivities'] to .obsp['connectivities'].\n",
      "\n",
      "This is where adjacency matrices should go now.\n",
      "  warn(\n"
     ]
    }
   ],
   "source": [
    "# Read anndata format \n",
    "# see also other parsers for vendor specific datasets such as: ad.read_mtx, ad.read_10x_h5, ... \n",
    "adata = ad.read_h5ad(\"./data/pbmc3k_processed.h5ad\")"
   ]
  },
  {
   "cell_type": "markdown",
   "metadata": {},
   "source": [
    "Get the representation of the anndata object"
   ]
  },
  {
   "cell_type": "code",
   "execution_count": 6,
   "metadata": {},
   "outputs": [
    {
     "data": {
      "text/plain": [
       "AnnData object with n_obs × n_vars = 2638 × 1838\n",
       "    obs: 'n_genes', 'percent_mito', 'n_counts', 'louvain'\n",
       "    var: 'n_cells'\n",
       "    uns: 'draw_graph', 'louvain', 'louvain_colors', 'neighbors', 'pca', 'rank_genes_groups'\n",
       "    obsm: 'X_pca', 'X_tsne', 'X_umap', 'X_draw_graph_fr'\n",
       "    varm: 'PCs'\n",
       "    obsp: 'distances', 'connectivities'"
      ]
     },
     "execution_count": 6,
     "metadata": {},
     "output_type": "execute_result"
    }
   ],
   "source": [
    "adata"
   ]
  },
  {
   "cell_type": "markdown",
   "metadata": {},
   "source": [
    "## Write anndata"
   ]
  },
  {
   "cell_type": "code",
   "execution_count": 7,
   "metadata": {},
   "outputs": [],
   "source": [
    "# adata.write_h5ad(\"/tmp/test.h5ad\")"
   ]
  },
  {
   "cell_type": "markdown",
   "metadata": {},
   "source": [
    "## .X / .layers\n",
    "\n",
    "The omics data is stored in the .X (active layer) and .layers attributes\n",
    "\n",
    ".X can either be a dense numpy array or a sparse scipy.sparse array"
   ]
  },
  {
   "cell_type": "code",
   "execution_count": 8,
   "metadata": {},
   "outputs": [
    {
     "data": {
      "text/plain": [
       "array([[-0.17146951, -0.28081203, -0.04667679, ..., -0.09826884,\n",
       "        -0.2090951 , -0.5312034 ],\n",
       "       [-0.21458222, -0.37265295, -0.05480444, ..., -0.26684406,\n",
       "        -0.31314576, -0.5966544 ],\n",
       "       [-0.37688747, -0.2950843 , -0.0575275 , ..., -0.15865596,\n",
       "        -0.17087643,  1.379     ],\n",
       "       ...,\n",
       "       [-0.2070895 , -0.250464  , -0.046397  , ..., -0.05114426,\n",
       "        -0.16106427,  2.0414972 ],\n",
       "       [-0.19032837, -0.2263336 , -0.04399938, ..., -0.00591773,\n",
       "        -0.13521303, -0.48211113],\n",
       "       [-0.33378917, -0.2535875 , -0.05271563, ..., -0.07842438,\n",
       "        -0.13032717, -0.4713379 ]], dtype=float32)"
      ]
     },
     "execution_count": 8,
     "metadata": {},
     "output_type": "execute_result"
    }
   ],
   "source": [
    "adata.X"
   ]
  },
  {
   "cell_type": "code",
   "execution_count": 9,
   "metadata": {},
   "outputs": [],
   "source": [
    "assert adata.X.shape[0] == adata.n_obs\n",
    "assert adata.X.shape[1] == adata.n_vars"
   ]
  },
  {
   "cell_type": "code",
   "execution_count": 10,
   "metadata": {},
   "outputs": [
    {
     "name": "stdout",
     "output_type": "stream",
     "text": [
      "adata.X is sparse: False\n",
      "<class 'numpy.ndarray'>\n"
     ]
    }
   ],
   "source": [
    "print(\"adata.X is sparse:\", sparse.issparse(adata.X)) \n",
    "print(type(adata.X))"
   ]
  },
  {
   "cell_type": "markdown",
   "metadata": {},
   "source": [
    "You can assign an array of the same shape as the adata.X array to the layers using a dictionary-assignment syntax."
   ]
  },
  {
   "cell_type": "code",
   "execution_count": 11,
   "metadata": {},
   "outputs": [
    {
     "data": {
      "text/plain": [
       "Layers with keys: test_layer"
      ]
     },
     "execution_count": 11,
     "metadata": {},
     "output_type": "execute_result"
    }
   ],
   "source": [
    "# assign a zero array to the layer `test_layer`\n",
    "adata.layers[\"test_layer\"] = np.zeros_like(adata.X)\n",
    "\n",
    "adata.layers"
   ]
  },
  {
   "cell_type": "markdown",
   "metadata": {},
   "source": [
    "Adata layers can be accessed like a dictionary:"
   ]
  },
  {
   "cell_type": "code",
   "execution_count": 12,
   "metadata": {},
   "outputs": [
    {
     "data": {
      "text/plain": [
       "array([[0., 0., 0., ..., 0., 0., 0.],\n",
       "       [0., 0., 0., ..., 0., 0., 0.],\n",
       "       [0., 0., 0., ..., 0., 0., 0.],\n",
       "       ...,\n",
       "       [0., 0., 0., ..., 0., 0., 0.],\n",
       "       [0., 0., 0., ..., 0., 0., 0.],\n",
       "       [0., 0., 0., ..., 0., 0., 0.]], dtype=float32)"
      ]
     },
     "execution_count": 12,
     "metadata": {},
     "output_type": "execute_result"
    }
   ],
   "source": [
    "adata.layers[\"test_layer\"]"
   ]
  },
  {
   "cell_type": "markdown",
   "metadata": {},
   "source": [
    "## .obs/.var\n",
    "\n",
    "### Checkout the observations dataframe\n",
    "\n",
    "The observations dataframe is just a dataframe. Ideally, you store the observation ids (e.g. cell id) as unique indices in the dataframe index (this is, however, not enforced and a common cause of errors). Remaining metadata is stored in the rest of the dataframe. "
   ]
  },
  {
   "cell_type": "code",
   "execution_count": 13,
   "metadata": {},
   "outputs": [
    {
     "data": {
      "text/html": [
       "<div>\n",
       "<style scoped>\n",
       "    .dataframe tbody tr th:only-of-type {\n",
       "        vertical-align: middle;\n",
       "    }\n",
       "\n",
       "    .dataframe tbody tr th {\n",
       "        vertical-align: top;\n",
       "    }\n",
       "\n",
       "    .dataframe thead th {\n",
       "        text-align: right;\n",
       "    }\n",
       "</style>\n",
       "<table border=\"1\" class=\"dataframe\">\n",
       "  <thead>\n",
       "    <tr style=\"text-align: right;\">\n",
       "      <th></th>\n",
       "      <th>n_genes</th>\n",
       "      <th>percent_mito</th>\n",
       "      <th>n_counts</th>\n",
       "      <th>louvain</th>\n",
       "    </tr>\n",
       "    <tr>\n",
       "      <th>index</th>\n",
       "      <th></th>\n",
       "      <th></th>\n",
       "      <th></th>\n",
       "      <th></th>\n",
       "    </tr>\n",
       "  </thead>\n",
       "  <tbody>\n",
       "    <tr>\n",
       "      <th>AAACATACAACCAC-1</th>\n",
       "      <td>781</td>\n",
       "      <td>0.030178</td>\n",
       "      <td>2419.0</td>\n",
       "      <td>CD4 T cells</td>\n",
       "    </tr>\n",
       "    <tr>\n",
       "      <th>AAACATTGAGCTAC-1</th>\n",
       "      <td>1352</td>\n",
       "      <td>0.037936</td>\n",
       "      <td>4903.0</td>\n",
       "      <td>B cells</td>\n",
       "    </tr>\n",
       "    <tr>\n",
       "      <th>AAACATTGATCAGC-1</th>\n",
       "      <td>1131</td>\n",
       "      <td>0.008897</td>\n",
       "      <td>3147.0</td>\n",
       "      <td>CD4 T cells</td>\n",
       "    </tr>\n",
       "    <tr>\n",
       "      <th>AAACCGTGCTTCCG-1</th>\n",
       "      <td>960</td>\n",
       "      <td>0.017431</td>\n",
       "      <td>2639.0</td>\n",
       "      <td>CD14+ Monocytes</td>\n",
       "    </tr>\n",
       "    <tr>\n",
       "      <th>AAACCGTGTATGCG-1</th>\n",
       "      <td>522</td>\n",
       "      <td>0.012245</td>\n",
       "      <td>980.0</td>\n",
       "      <td>NK cells</td>\n",
       "    </tr>\n",
       "    <tr>\n",
       "      <th>...</th>\n",
       "      <td>...</td>\n",
       "      <td>...</td>\n",
       "      <td>...</td>\n",
       "      <td>...</td>\n",
       "    </tr>\n",
       "    <tr>\n",
       "      <th>TTTCGAACTCTCAT-1</th>\n",
       "      <td>1155</td>\n",
       "      <td>0.021104</td>\n",
       "      <td>3459.0</td>\n",
       "      <td>CD14+ Monocytes</td>\n",
       "    </tr>\n",
       "    <tr>\n",
       "      <th>TTTCTACTGAGGCA-1</th>\n",
       "      <td>1227</td>\n",
       "      <td>0.009294</td>\n",
       "      <td>3443.0</td>\n",
       "      <td>B cells</td>\n",
       "    </tr>\n",
       "    <tr>\n",
       "      <th>TTTCTACTTCCTCG-1</th>\n",
       "      <td>622</td>\n",
       "      <td>0.021971</td>\n",
       "      <td>1684.0</td>\n",
       "      <td>B cells</td>\n",
       "    </tr>\n",
       "    <tr>\n",
       "      <th>TTTGCATGAGAGGC-1</th>\n",
       "      <td>454</td>\n",
       "      <td>0.020548</td>\n",
       "      <td>1022.0</td>\n",
       "      <td>B cells</td>\n",
       "    </tr>\n",
       "    <tr>\n",
       "      <th>TTTGCATGCCTCAC-1</th>\n",
       "      <td>724</td>\n",
       "      <td>0.008065</td>\n",
       "      <td>1984.0</td>\n",
       "      <td>CD4 T cells</td>\n",
       "    </tr>\n",
       "  </tbody>\n",
       "</table>\n",
       "<p>2638 rows × 4 columns</p>\n",
       "</div>"
      ],
      "text/plain": [
       "                  n_genes  percent_mito  n_counts          louvain\n",
       "index                                                             \n",
       "AAACATACAACCAC-1      781      0.030178    2419.0      CD4 T cells\n",
       "AAACATTGAGCTAC-1     1352      0.037936    4903.0          B cells\n",
       "AAACATTGATCAGC-1     1131      0.008897    3147.0      CD4 T cells\n",
       "AAACCGTGCTTCCG-1      960      0.017431    2639.0  CD14+ Monocytes\n",
       "AAACCGTGTATGCG-1      522      0.012245     980.0         NK cells\n",
       "...                   ...           ...       ...              ...\n",
       "TTTCGAACTCTCAT-1     1155      0.021104    3459.0  CD14+ Monocytes\n",
       "TTTCTACTGAGGCA-1     1227      0.009294    3443.0          B cells\n",
       "TTTCTACTTCCTCG-1      622      0.021971    1684.0          B cells\n",
       "TTTGCATGAGAGGC-1      454      0.020548    1022.0          B cells\n",
       "TTTGCATGCCTCAC-1      724      0.008065    1984.0      CD4 T cells\n",
       "\n",
       "[2638 rows x 4 columns]"
      ]
     },
     "execution_count": 13,
     "metadata": {},
     "output_type": "execute_result"
    }
   ],
   "source": [
    "# adata.obs is a dataframe \n",
    "assert type(adata.obs) == pd.DataFrame\n",
    "\n",
    "# adata.obs has the exact length of the adata dimension 0 (number of rows)\n",
    "assert len(adata.obs) == adata.shape[0]\n",
    "\n",
    "# The .obs dataframe stores information about each observation (cell): Here: number of genes per cell, % mitochondrial genes, number of counts, cell type\n",
    "adata.obs"
   ]
  },
  {
   "cell_type": "markdown",
   "metadata": {},
   "source": [
    "### Checkout the var dataframe\n",
    "\n",
    "The var dataframe is also just a dataframe. Ideally, you store the variable ids (e.g. gene id/protein ids) as unique indices in the dataframe index (this is, however, not enforced and a common cause of errors). Remaining metadata is stored in the rest of the dataframe. "
   ]
  },
  {
   "cell_type": "code",
   "execution_count": 14,
   "metadata": {},
   "outputs": [
    {
     "data": {
      "text/html": [
       "<div>\n",
       "<style scoped>\n",
       "    .dataframe tbody tr th:only-of-type {\n",
       "        vertical-align: middle;\n",
       "    }\n",
       "\n",
       "    .dataframe tbody tr th {\n",
       "        vertical-align: top;\n",
       "    }\n",
       "\n",
       "    .dataframe thead th {\n",
       "        text-align: right;\n",
       "    }\n",
       "</style>\n",
       "<table border=\"1\" class=\"dataframe\">\n",
       "  <thead>\n",
       "    <tr style=\"text-align: right;\">\n",
       "      <th></th>\n",
       "      <th>n_cells</th>\n",
       "    </tr>\n",
       "    <tr>\n",
       "      <th>index</th>\n",
       "      <th></th>\n",
       "    </tr>\n",
       "  </thead>\n",
       "  <tbody>\n",
       "    <tr>\n",
       "      <th>TNFRSF4</th>\n",
       "      <td>155</td>\n",
       "    </tr>\n",
       "    <tr>\n",
       "      <th>CPSF3L</th>\n",
       "      <td>202</td>\n",
       "    </tr>\n",
       "    <tr>\n",
       "      <th>ATAD3C</th>\n",
       "      <td>9</td>\n",
       "    </tr>\n",
       "    <tr>\n",
       "      <th>C1orf86</th>\n",
       "      <td>501</td>\n",
       "    </tr>\n",
       "    <tr>\n",
       "      <th>RER1</th>\n",
       "      <td>608</td>\n",
       "    </tr>\n",
       "    <tr>\n",
       "      <th>...</th>\n",
       "      <td>...</td>\n",
       "    </tr>\n",
       "    <tr>\n",
       "      <th>ICOSLG</th>\n",
       "      <td>34</td>\n",
       "    </tr>\n",
       "    <tr>\n",
       "      <th>SUMO3</th>\n",
       "      <td>570</td>\n",
       "    </tr>\n",
       "    <tr>\n",
       "      <th>SLC19A1</th>\n",
       "      <td>31</td>\n",
       "    </tr>\n",
       "    <tr>\n",
       "      <th>S100B</th>\n",
       "      <td>94</td>\n",
       "    </tr>\n",
       "    <tr>\n",
       "      <th>PRMT2</th>\n",
       "      <td>588</td>\n",
       "    </tr>\n",
       "  </tbody>\n",
       "</table>\n",
       "<p>1838 rows × 1 columns</p>\n",
       "</div>"
      ],
      "text/plain": [
       "         n_cells\n",
       "index           \n",
       "TNFRSF4      155\n",
       "CPSF3L       202\n",
       "ATAD3C         9\n",
       "C1orf86      501\n",
       "RER1         608\n",
       "...          ...\n",
       "ICOSLG        34\n",
       "SUMO3        570\n",
       "SLC19A1       31\n",
       "S100B         94\n",
       "PRMT2        588\n",
       "\n",
       "[1838 rows x 1 columns]"
      ]
     },
     "execution_count": 14,
     "metadata": {},
     "output_type": "execute_result"
    }
   ],
   "source": [
    "# adata.obs is a dataframe \n",
    "assert type(adata.var) == pd.DataFrame\n",
    "\n",
    "# adata.obs has the exact length of the adata dimension 0 (number of rows)\n",
    "assert len(adata.var) == adata.shape[1]\n",
    "\n",
    "# This dataframe stores the HGNC identifiers for each gene + the number of cells in which the gene is expressed \n",
    "adata.var"
   ]
  },
  {
   "cell_type": "markdown",
   "metadata": {},
   "source": [
    "## .uns\n",
    "\n",
    "Check out the .uns attribute that stores **unstructured data**. The .uns attribute is just a dictionary"
   ]
  },
  {
   "cell_type": "code",
   "execution_count": 15,
   "metadata": {},
   "outputs": [
    {
     "data": {
      "text/plain": [
       "dict"
      ]
     },
     "execution_count": 15,
     "metadata": {},
     "output_type": "execute_result"
    }
   ],
   "source": [
    "type(adata.uns)"
   ]
  },
  {
   "cell_type": "markdown",
   "metadata": {},
   "source": [
    "In this case .uns attribute stores information about \n",
    "- principal component analysis (*pca*)\n",
    "- the nearest neighbors graph (*neighbors*)\n",
    "- louvain clustering (*louvain*)\n",
    "- plotting attributes (*draw_graph, louvain_colors*)\n",
    "- differential gene expression (*rank_genes_groups*)"
   ]
  },
  {
   "cell_type": "code",
   "execution_count": 16,
   "metadata": {},
   "outputs": [
    {
     "data": {
      "text/plain": [
       "dict_keys(['draw_graph', 'louvain', 'louvain_colors', 'neighbors', 'pca', 'rank_genes_groups'])"
      ]
     },
     "execution_count": 16,
     "metadata": {},
     "output_type": "execute_result"
    }
   ],
   "source": [
    "adata.uns.keys()"
   ]
  },
  {
   "cell_type": "markdown",
   "metadata": {},
   "source": [
    "### Data \n",
    "adata.uns can store unstructured data, e.g. the explained variance during the PCA analysis"
   ]
  },
  {
   "cell_type": "code",
   "execution_count": 17,
   "metadata": {},
   "outputs": [
    {
     "data": {
      "text/plain": [
       "{'variance': array([32.11044  , 18.718647 , 15.607319 , 13.235274 ,  4.8012376,\n",
       "         3.977329 ,  3.5053132,  3.1576602,  3.028463 ,  2.9777625,\n",
       "         2.8842385,  2.8583548,  2.849085 ,  2.8220255,  2.811057 ,\n",
       "         2.781576 ,  2.7436602,  2.7404478,  2.736062 ,  2.6872916,\n",
       "         2.671316 ,  2.6690092,  2.6442325,  2.6394093,  2.6157827,\n",
       "         2.6102393,  2.575101 ,  2.5691617,  2.563295 ,  2.5489197,\n",
       "         2.5080354,  2.4762378,  2.264355 ,  2.1844513,  2.1353922,\n",
       "         2.096509 ,  2.0606086,  2.0105643,  1.9703175,  1.9465197,\n",
       "         1.9220033,  1.8847997,  1.8349565,  1.8038161,  1.7930729,\n",
       "         1.7611799,  1.7322571,  1.721284 ,  1.6937429,  1.6519767],\n",
       "       dtype=float32),\n",
       " 'variance_ratio': array([0.02012818, 0.01173364, 0.00978333, 0.00829643, 0.00300962,\n",
       "        0.00249316, 0.00219728, 0.00197936, 0.00189837, 0.00186659,\n",
       "        0.00180796, 0.00179174, 0.00178593, 0.00176896, 0.00176209,\n",
       "        0.00174361, 0.00171984, 0.00171783, 0.00171508, 0.00168451,\n",
       "        0.00167449, 0.00167305, 0.00165752, 0.00165449, 0.00163968,\n",
       "        0.00163621, 0.00161418, 0.00161046, 0.00160678, 0.00159777,\n",
       "        0.00157214, 0.00155221, 0.00141939, 0.00136931, 0.00133855,\n",
       "        0.00131418, 0.00129168, 0.00126031, 0.00123508, 0.00122016,\n",
       "        0.00120479, 0.00118147, 0.00115023, 0.00113071, 0.00112397,\n",
       "        0.00110398, 0.00108585, 0.00107897, 0.00106171, 0.00103553],\n",
       "       dtype=float32)}"
      ]
     },
     "execution_count": 17,
     "metadata": {},
     "output_type": "execute_result"
    }
   ],
   "source": [
    "adata.uns[\"pca\"]"
   ]
  },
  {
   "cell_type": "markdown",
   "metadata": {},
   "source": [
    "For demonstration purposes, let's plot the explained variance per PC for our dataset"
   ]
  },
  {
   "cell_type": "code",
   "execution_count": 18,
   "metadata": {},
   "outputs": [
    {
     "data": {
      "text/plain": [
       "[Text(0, 0.5, '% Variance explained'), Text(0.5, 0, '#PC')]"
      ]
     },
     "execution_count": 18,
     "metadata": {},
     "output_type": "execute_result"
    },
    {
     "data": {
      "image/png": "[encoded data removed]",
      "text/plain": [
       "<Figure size 640x480 with 1 Axes>"
      ]
     },
     "metadata": {},
     "output_type": "display_data"
    }
   ],
   "source": [
    "explained_variance = adata.uns[\"pca\"].get(\"variance_ratio\")\n",
    "x = np.arange(len(explained_variance)) if explained_variance is not None else []\n",
    "\n",
    "plt.plot(x, explained_variance, marker=\"o\", linestyle=\"\")\n",
    "plt.gca().set(ylabel=\"% Variance explained\", xlabel=\"#PC\")"
   ]
  },
  {
   "cell_type": "markdown",
   "metadata": {},
   "source": [
    "### Vizualization settings\n",
    "Checkout some visualization information that is also stored in adata.uns"
   ]
  },
  {
   "cell_type": "code",
   "execution_count": 19,
   "metadata": {},
   "outputs": [
    {
     "data": {
      "text/plain": [
       "array(['#1f77b4', '#ff7f0e', '#2ca02c', '#d62728', '#9467bd', '#8c564b',\n",
       "       '#e377c2', '#bcbd22'], dtype='<U7')"
      ]
     },
     "execution_count": 19,
     "metadata": {},
     "output_type": "execute_result"
    }
   ],
   "source": [
    "adata.uns[\"louvain_colors\"]"
   ]
  },
  {
   "cell_type": "markdown",
   "metadata": {},
   "source": [
    "### Analysis parameters\n",
    "Checkout some parameters for a specific step of the analysis that were also stored in adata.uns"
   ]
  },
  {
   "cell_type": "code",
   "execution_count": 20,
   "metadata": {},
   "outputs": [
    {
     "data": {
      "text/plain": [
       "{'params': {'random_state': array([0]), 'resolution': array([1])}}"
      ]
     },
     "execution_count": 20,
     "metadata": {},
     "output_type": "execute_result"
    }
   ],
   "source": [
    "adata.uns[\"louvain\"]"
   ]
  },
  {
   "cell_type": "markdown",
   "metadata": {},
   "source": [
    "## adata.obsm/adata.varm\n",
    "\n",
    "Adata.obsm/varm are again mappings, that can store an arbitrary number of layers with the same length as the corresponding n_obs, n_var\n",
    "\n",
    "These attribute store **embeddings**"
   ]
  },
  {
   "cell_type": "code",
   "execution_count": 21,
   "metadata": {},
   "outputs": [
    {
     "data": {
      "text/plain": [
       "AxisArrays with keys: X_pca, X_tsne, X_umap, X_draw_graph_fr"
      ]
     },
     "execution_count": 21,
     "metadata": {},
     "output_type": "execute_result"
    }
   ],
   "source": [
    "adata.obsm"
   ]
  },
  {
   "cell_type": "code",
   "execution_count": 22,
   "metadata": {},
   "outputs": [
    {
     "name": "stdout",
     "output_type": "stream",
     "text": [
      "50\n"
     ]
    }
   ],
   "source": [
    "assert len(adata.obsm[\"X_pca\"]) == adata.n_obs \n",
    "\n",
    "print(adata.obsm[\"X_pca\"].shape[1])"
   ]
  },
  {
   "cell_type": "markdown",
   "metadata": {},
   "source": [
    "Just for fun, let's plot the first two principal components, by accessing the X_pca attribute (not recommended, see tutorial 2)"
   ]
  },
  {
   "cell_type": "code",
   "execution_count": 23,
   "metadata": {},
   "outputs": [
    {
     "data": {
      "text/plain": [
       "[[], [], Text(0.5, 0, 'PC1'), Text(0, 0.5, 'PC2')]"
      ]
     },
     "execution_count": 23,
     "metadata": {},
     "output_type": "execute_result"
    },
    {
     "data": {
      "image/png": "[encoded data removed]",
      "text/plain": [
       "<Figure size 400x400 with 1 Axes>"
      ]
     },
     "metadata": {},
     "output_type": "display_data"
    }
   ],
   "source": [
    "x = adata.obsm[\"X_pca\"][:, 0]\n",
    "y = adata.obsm[\"X_pca\"][:, 1]\n",
    "\n",
    "# Get categorical values from adata.obs \n",
    "c = adata.obs[\"louvain\"]\n",
    "\n",
    "fig, ax = plt.subplots(1, 1, figsize=(4, 4))\n",
    "sns.scatterplot(x=x, y=y, hue=c, ax=ax)\n",
    "plt.legend(loc=\"upper left\", bbox_to_anchor=(1,1))\n",
    "plt.gca().set(xticks=[], yticks=[], xlabel=\"PC1\", ylabel=\"PC2\")\n"
   ]
  },
  {
   "cell_type": "code",
   "execution_count": 24,
   "metadata": {},
   "outputs": [
    {
     "name": "stderr",
     "output_type": "stream",
     "text": [
      "/Users/lucas-diedrich/anaconda3/envs/spatialdata/lib/python3.11/site-packages/session_info/main.py:213: UserWarning: The '__version__' attribute is deprecated and will be removed in MarkupSafe 3.1. Use feature detection, or `importlib.metadata.version(\"markupsafe\")`, instead.\n",
      "  mod_version = _find_version(mod.__version__)\n"
     ]
    },
    {
     "data": {
      "text/html": [
       "<details>\n",
       "<summary>Click to view session information</summary>\n",
       "<pre>\n",
       "-----\n",
       "anndata             0.10.9\n",
       "matplotlib          3.9.2\n",
       "numpy               1.26.4\n",
       "pandas              2.2.3\n",
       "scanpy              1.10.3\n",
       "scipy               1.12.0\n",
       "seaborn             0.13.2\n",
       "session_info        1.0.0\n",
       "-----\n",
       "</pre>\n",
       "<details>\n",
       "<summary>Click to view modules imported as dependencies</summary>\n",
       "<pre>\n",
       "PIL                         11.0.0\n",
       "anyio                       NA\n",
       "appnope                     0.1.4\n",
       "arrow                       1.3.0\n",
       "asciitree                   NA\n",
       "asttokens                   NA\n",
       "attr                        24.2.0\n",
       "attrs                       24.2.0\n",
       "babel                       2.16.0\n",
       "certifi                     2024.08.30\n",
       "charset_normalizer          3.4.0\n",
       "cloudpickle                 3.1.0\n",
       "comm                        0.2.2\n",
       "cycler                      0.12.1\n",
       "cython_runtime              NA\n",
       "dask                        2024.10.0\n",
       "dateutil                    2.9.0.post0\n",
       "debugpy                     1.8.7\n",
       "decorator                   5.1.1\n",
       "defusedxml                  0.7.1\n",
       "executing                   2.1.0\n",
       "fastjsonschema              NA\n",
       "fqdn                        NA\n",
       "h5py                        3.12.1\n",
       "idna                        3.10\n",
       "igraph                      0.11.8\n",
       "importlib_metadata          NA\n",
       "ipykernel                   6.29.5\n",
       "ipywidgets                  8.1.5\n",
       "isoduration                 NA\n",
       "jedi                        0.19.1\n",
       "jinja2                      3.1.4\n",
       "joblib                      1.4.2\n",
       "json5                       0.9.25\n",
       "jsonpointer                 3.0.0\n",
       "jsonschema                  4.23.0\n",
       "jsonschema_specifications   NA\n",
       "jupyter_events              0.10.0\n",
       "jupyter_server              2.14.2\n",
       "jupyterlab_server           2.27.3\n",
       "kiwisolver                  1.4.7\n",
       "legacy_api_wrap             NA\n",
       "leidenalg                   0.10.2\n",
       "llvmlite                    0.43.0\n",
       "markupsafe                  3.0.2\n",
       "matplotlib_inline           0.1.7\n",
       "mpl_toolkits                NA\n",
       "msgpack                     1.1.0\n",
       "natsort                     8.4.0\n",
       "nbformat                    5.10.4\n",
       "numba                       0.60.0\n",
       "numcodecs                   0.13.1\n",
       "overrides                   NA\n",
       "packaging                   24.1\n",
       "parso                       0.8.4\n",
       "patsy                       0.5.6\n",
       "platformdirs                4.3.6\n",
       "prometheus_client           NA\n",
       "prompt_toolkit              3.0.48\n",
       "psutil                      6.1.0\n",
       "pure_eval                   0.2.3\n",
       "pyarrow                     18.0.0\n",
       "pydev_ipython               NA\n",
       "pydevconsole                NA\n",
       "pydevd                      3.1.0\n",
       "pydevd_file_utils           NA\n",
       "pydevd_plugins              NA\n",
       "pydevd_tracing              NA\n",
       "pygments                    2.18.0\n",
       "pyparsing                   3.2.0\n",
       "pythonjsonlogger            NA\n",
       "pytz                        2024.2\n",
       "referencing                 NA\n",
       "requests                    2.32.3\n",
       "rfc3339_validator           0.1.4\n",
       "rfc3986_validator           0.1.1\n",
       "rpds                        NA\n",
       "send2trash                  NA\n",
       "six                         1.16.0\n",
       "sklearn                     1.5.2\n",
       "sniffio                     1.3.1\n",
       "sphinxcontrib               NA\n",
       "stack_data                  0.6.3\n",
       "statsmodels                 0.14.4\n",
       "stdlib_list                 0.11.0\n",
       "tblib                       3.0.0\n",
       "texttable                   1.7.0\n",
       "threadpoolctl               3.5.0\n",
       "tlz                         1.0.0\n",
       "toolz                       1.0.0\n",
       "tornado                     6.4.1\n",
       "traitlets                   5.14.3\n",
       "typing_extensions           NA\n",
       "uri_template                NA\n",
       "urllib3                     1.26.20\n",
       "vscode                      NA\n",
       "wcwidth                     0.2.13\n",
       "webcolors                   24.8.0\n",
       "websocket                   1.8.0\n",
       "yaml                        6.0.2\n",
       "zarr                        2.18.3\n",
       "zipp                        NA\n",
       "zmq                         26.2.0\n",
       "zoneinfo                    NA\n",
       "</pre>\n",
       "</details> <!-- seems like this ends pre, so might as well be explicit -->\n",
       "<pre>\n",
       "-----\n",
       "IPython             8.29.0\n",
       "jupyter_client      8.6.3\n",
       "jupyter_core        5.7.2\n",
       "jupyterlab          4.2.5\n",
       "notebook            7.2.2\n",
       "-----\n",
       "Python 3.11.10 | packaged by conda-forge | (main, Oct 16 2024, 01:26:25) [Clang 17.0.6 ]\n",
       "macOS-15.1-arm64-arm-64bit\n",
       "-----\n",
       "Session information updated at 2024-11-13 18:27\n",
       "</pre>\n",
       "</details>"
      ],
      "text/plain": [
       "<IPython.core.display.HTML object>"
      ]
     },
     "execution_count": 24,
     "metadata": {},
     "output_type": "execute_result"
    }
   ],
   "source": [
    "import session_info\n",
    "session_info.show(excludes=['distributed'])"
   ]
  }
 ],
 "metadata": {
  "kernelspec": {
   "display_name": "spatialdata",
   "language": "python",
   "name": "python3"
  },
  "language_info": {
   "codemirror_mode": {
    "name": "ipython",
    "version": 3
   },
   "file_extension": ".py",
   "mimetype": "text/x-python",
   "name": "python",
   "nbconvert_exporter": "python",
   "pygments_lexer": "ipython3",
   "version": "3.11.10"
  }
 },
 "nbformat": 4,
 "nbformat_minor": 2
}
